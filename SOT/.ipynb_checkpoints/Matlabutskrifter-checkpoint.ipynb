{
 "cells": [
  {
   "cell_type": "markdown",
   "metadata": {},
   "source": [
    "# Matlab- och Mapleutskrifter"
   ]
  },
  {
   "cell_type": "markdown",
   "metadata": {},
   "source": [
    "## Uppgift 1"
   ]
  },
  {
   "cell_type": "code",
   "execution_count": 3,
   "metadata": {
    "scrolled": true
   },
   "outputs": [
    {
     "name": "stdout",
     "output_type": "stream",
     "text": [
      "\n",
      "S =\n",
      "\n",
      "    0.6000    0.5547\n",
      "    0.8000    0.8321\n",
      "\n",
      "\n",
      "D =\n",
      "\n",
      "    3.0000         0\n",
      "         0    2.0000\n",
      "\n",
      "\n"
     ]
    }
   ],
   "source": [
    "A = [[11 -6];[12 -6]];\n",
    "[S,D]=eig(A)"
   ]
  },
  {
   "cell_type": "markdown",
   "metadata": {},
   "source": [
    "## Uppgift 2"
   ]
  },
  {
   "cell_type": "code",
   "execution_count": 4,
   "metadata": {},
   "outputs": [
    {
     "name": "stdout",
     "output_type": "stream",
     "text": [
      "\n",
      "SB =\n",
      "\n",
      "  -0.0347 + 0.0258i\n",
      "  -0.0347 - 0.0258i\n",
      "   0.0138 + 0.0401i\n",
      "   0.0138 - 0.0401i\n",
      "   0.0419 + 0.0000i\n",
      "\n",
      "\n",
      "SA =\n",
      "\n",
      "  -20401/20    \n",
      "       1/3165013166146\n",
      "     206/2101  \n",
      "    1000       \n",
      "    1000       \n",
      "   52015/51    \n",
      "    1020       \n",
      "   20401/20    \n",
      "\n",
      "\n"
     ]
    }
   ],
   "source": [
    "A = rosser;\n",
    "B = gallery(5);\n",
    "%save('A.mat', 'A');\n",
    "SB = eig(B)\n",
    "format rat\n",
    "SA = eig(A)"
   ]
  },
  {
   "cell_type": "markdown",
   "metadata": {},
   "source": [
    "## Uppgift 3"
   ]
  },
  {
   "cell_type": "code",
   "execution_count": 5,
   "metadata": {},
   "outputs": [
    {
     "name": "stdout",
     "output_type": "stream",
     "text": [
      "\n",
      "ans =\n",
      "\n",
      "       6        -    3i      \n",
      "       8        -    4i      \n",
      "\n",
      "\n"
     ]
    }
   ],
   "source": [
    "A = [-1i-6, 6; -12, -1i+11];\n",
    "B = [3;4];\n",
    "A*B"
   ]
  },
  {
   "cell_type": "markdown",
   "metadata": {},
   "source": [
    "## Uppgift 4"
   ]
  },
  {
   "cell_type": "code",
   "execution_count": 6,
   "metadata": {},
   "outputs": [
    {
     "name": "stdout",
     "output_type": "stream",
     "text": [
      "\n",
      "ans =\n",
      "\n",
      "       2/5            2       \n",
      "       4/5            1       \n",
      "\n",
      "\n"
     ]
    }
   ],
   "source": [
    "format rat\n",
    "A = [0 2; 0.8 0.6];\n",
    "[S,D] = eig(A);\n",
    "A-eye(2)*(-2/5)"
   ]
  },
  {
   "cell_type": "code",
   "execution_count": null,
   "metadata": {},
   "outputs": [],
   "source": []
  }
 ],
 "metadata": {
  "kernelspec": {
   "display_name": "Matlab",
   "language": "matlab",
   "name": "matlab"
  },
  "language_info": {
   "codemirror_mode": "octave",
   "file_extension": ".m",
   "help_links": [
    {
     "text": "MetaKernel Magics",
     "url": "https://github.com/calysto/metakernel/blob/master/metakernel/magics/README.md"
    }
   ],
   "mimetype": "text/x-octave",
   "name": "matlab",
   "version": "0.15.0"
  }
 },
 "nbformat": 4,
 "nbformat_minor": 2
}
